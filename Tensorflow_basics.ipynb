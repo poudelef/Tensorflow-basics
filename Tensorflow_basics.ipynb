{
  "nbformat": 4,
  "nbformat_minor": 0,
  "metadata": {
    "colab": {
      "provenance": [],
      "authorship_tag": "ABX9TyPMb6TXmj27emSzWLxMX4Gf",
      "include_colab_link": true
    },
    "kernelspec": {
      "name": "python3",
      "display_name": "Python 3"
    },
    "language_info": {
      "name": "python"
    }
  },
  "cells": [
    {
      "cell_type": "markdown",
      "metadata": {
        "id": "view-in-github",
        "colab_type": "text"
      },
      "source": [
        "<a href=\"https://colab.research.google.com/github/poudelef/Tensorflow-basics/blob/main/Tensorflow_basics.ipynb\" target=\"_parent\"><img src=\"https://colab.research.google.com/assets/colab-badge.svg\" alt=\"Open In Colab\"/></a>"
      ]
    },
    {
      "cell_type": "code",
      "execution_count": 1,
      "metadata": {
        "id": "1aH7StG8nkhe"
      },
      "outputs": [],
      "source": [
        "import tensorflow as tf"
      ]
    },
    {
      "cell_type": "code",
      "source": [
        "tf.__version__"
      ],
      "metadata": {
        "colab": {
          "base_uri": "https://localhost:8080/",
          "height": 35
        },
        "id": "syZnfW4InsuU",
        "outputId": "b8272a16-c302-4391-b2db-f317c8b7e2c0"
      },
      "execution_count": 2,
      "outputs": [
        {
          "output_type": "execute_result",
          "data": {
            "text/plain": [
              "'2.18.0'"
            ],
            "application/vnd.google.colaboratory.intrinsic+json": {
              "type": "string"
            }
          },
          "metadata": {},
          "execution_count": 2
        }
      ]
    },
    {
      "cell_type": "markdown",
      "source": [
        "### Creating Tensor flow with constant"
      ],
      "metadata": {
        "id": "2iC10AiYI6z3"
      }
    },
    {
      "cell_type": "code",
      "source": [
        "scalar = tf.constant(1)\n",
        "scalar"
      ],
      "metadata": {
        "colab": {
          "base_uri": "https://localhost:8080/"
        },
        "id": "pXvTXLfvn1FU",
        "outputId": "de6d6686-ebfc-4dda-c8cb-578b5f3b8df0"
      },
      "execution_count": 3,
      "outputs": [
        {
          "output_type": "execute_result",
          "data": {
            "text/plain": [
              "<tf.Tensor: shape=(), dtype=int32, numpy=1>"
            ]
          },
          "metadata": {},
          "execution_count": 3
        }
      ]
    },
    {
      "cell_type": "code",
      "source": [
        "# Check the number of dimensions of a tensor. ndim means number of dimensions\n",
        "scalar.ndim"
      ],
      "metadata": {
        "colab": {
          "base_uri": "https://localhost:8080/"
        },
        "id": "QDProIqGWSJ4",
        "outputId": "8dab739e-4a94-4c6d-9f95-c2ce6028782b"
      },
      "execution_count": 4,
      "outputs": [
        {
          "output_type": "execute_result",
          "data": {
            "text/plain": [
              "0"
            ]
          },
          "metadata": {},
          "execution_count": 4
        }
      ]
    },
    {
      "cell_type": "code",
      "source": [
        "vector = tf.constant([10,10])\n",
        "vector"
      ],
      "metadata": {
        "colab": {
          "base_uri": "https://localhost:8080/"
        },
        "id": "IhiALhtqn5mm",
        "outputId": "0f09228f-de6c-4e29-ca06-78affb6b53d6"
      },
      "execution_count": 5,
      "outputs": [
        {
          "output_type": "execute_result",
          "data": {
            "text/plain": [
              "<tf.Tensor: shape=(2,), dtype=int32, numpy=array([10, 10], dtype=int32)>"
            ]
          },
          "metadata": {},
          "execution_count": 5
        }
      ]
    },
    {
      "cell_type": "code",
      "source": [
        "vector.ndim"
      ],
      "metadata": {
        "colab": {
          "base_uri": "https://localhost:8080/"
        },
        "id": "TthuolkUWPpa",
        "outputId": "a2f60a54-a820-43fc-9ae7-e1b543996fae"
      },
      "execution_count": 6,
      "outputs": [
        {
          "output_type": "execute_result",
          "data": {
            "text/plain": [
              "1"
            ]
          },
          "metadata": {},
          "execution_count": 6
        }
      ]
    },
    {
      "cell_type": "code",
      "source": [
        "vector = tf.constant([[10,20,34],[30,40,23],[50,60,32]])\n",
        "vector"
      ],
      "metadata": {
        "colab": {
          "base_uri": "https://localhost:8080/"
        },
        "id": "JQ12q5kDn-Ta",
        "outputId": "cede3616-cd57-464f-8bba-23f359c746ff"
      },
      "execution_count": 7,
      "outputs": [
        {
          "output_type": "execute_result",
          "data": {
            "text/plain": [
              "<tf.Tensor: shape=(3, 3), dtype=int32, numpy=\n",
              "array([[10, 20, 34],\n",
              "       [30, 40, 23],\n",
              "       [50, 60, 32]], dtype=int32)>"
            ]
          },
          "metadata": {},
          "execution_count": 7
        }
      ]
    },
    {
      "cell_type": "code",
      "source": [
        "vector.ndim"
      ],
      "metadata": {
        "colab": {
          "base_uri": "https://localhost:8080/"
        },
        "id": "9rKZK-0uoyrA",
        "outputId": "35215829-4848-44f9-e43c-16432959536e"
      },
      "execution_count": 8,
      "outputs": [
        {
          "output_type": "execute_result",
          "data": {
            "text/plain": [
              "2"
            ]
          },
          "metadata": {},
          "execution_count": 8
        }
      ]
    },
    {
      "cell_type": "code",
      "source": [
        "matrix = tf.constant([[12.5,45.0],[45.3,80.9]], dtype = tf.float16)\n",
        "matrix"
      ],
      "metadata": {
        "id": "C0cgBwUmav-D",
        "colab": {
          "base_uri": "https://localhost:8080/"
        },
        "outputId": "f1499b6f-d1e3-4a93-a847-d6bf4c9a4185"
      },
      "execution_count": 9,
      "outputs": [
        {
          "output_type": "execute_result",
          "data": {
            "text/plain": [
              "<tf.Tensor: shape=(2, 2), dtype=float16, numpy=\n",
              "array([[12.5, 45. ],\n",
              "       [45.3, 80.9]], dtype=float16)>"
            ]
          },
          "metadata": {},
          "execution_count": 9
        }
      ]
    },
    {
      "cell_type": "code",
      "source": [
        "matrix.ndim"
      ],
      "metadata": {
        "colab": {
          "base_uri": "https://localhost:8080/"
        },
        "id": "zTCihY216_NZ",
        "outputId": "089bcb8e-ed0d-4540-f1b4-6548afbb319f"
      },
      "execution_count": 10,
      "outputs": [
        {
          "output_type": "execute_result",
          "data": {
            "text/plain": [
              "2"
            ]
          },
          "metadata": {},
          "execution_count": 10
        }
      ]
    },
    {
      "cell_type": "code",
      "source": [
        "tensor = tf.constant([[[3,4],[43,34],[43,34]]])"
      ],
      "metadata": {
        "id": "kJEQ59QBLjMT"
      },
      "execution_count": 11,
      "outputs": []
    },
    {
      "cell_type": "code",
      "source": [
        "tensor"
      ],
      "metadata": {
        "colab": {
          "base_uri": "https://localhost:8080/"
        },
        "id": "MJ6iCTXtbZqb",
        "outputId": "745ea254-9774-4703-f91c-fbbc430d6707"
      },
      "execution_count": 12,
      "outputs": [
        {
          "output_type": "execute_result",
          "data": {
            "text/plain": [
              "<tf.Tensor: shape=(1, 3, 2), dtype=int32, numpy=\n",
              "array([[[ 3,  4],\n",
              "        [43, 34],\n",
              "        [43, 34]]], dtype=int32)>"
            ]
          },
          "metadata": {},
          "execution_count": 12
        }
      ]
    },
    {
      "cell_type": "code",
      "source": [
        "tensor.shape"
      ],
      "metadata": {
        "colab": {
          "base_uri": "https://localhost:8080/"
        },
        "id": "ZqK5A-QXzEBS",
        "outputId": "6d6bffab-bc1b-49c4-84b5-9c89afc351a8"
      },
      "execution_count": 13,
      "outputs": [
        {
          "output_type": "execute_result",
          "data": {
            "text/plain": [
              "TensorShape([1, 3, 2])"
            ]
          },
          "metadata": {},
          "execution_count": 13
        }
      ]
    },
    {
      "cell_type": "code",
      "source": [
        "tensor.ndim"
      ],
      "metadata": {
        "colab": {
          "base_uri": "https://localhost:8080/"
        },
        "id": "0ifzoNbSISNr",
        "outputId": "c2efd854-ea05-43cf-fcdc-d50ea55805ef"
      },
      "execution_count": 14,
      "outputs": [
        {
          "output_type": "execute_result",
          "data": {
            "text/plain": [
              "3"
            ]
          },
          "metadata": {},
          "execution_count": 14
        }
      ]
    },
    {
      "cell_type": "code",
      "source": [
        "# Scalaar : a single number\n",
        "# Vector : a number with direction\n",
        "# Matrix : 2- dimentional array of number\n",
        "# tensor : n- dimention array of number. 1-dimentions tensor is vector and o-dimention tensor is scalar. B"
      ],
      "metadata": {
        "id": "jsIpFHxhITZi"
      },
      "execution_count": 15,
      "outputs": []
    },
    {
      "cell_type": "markdown",
      "source": [
        "### Creating Tensor with tf. variable"
      ],
      "metadata": {
        "id": "ZMVeAVs1I2JA"
      }
    },
    {
      "cell_type": "code",
      "source": [
        "tensor = tf.Variable([10,23])"
      ],
      "metadata": {
        "id": "nf2OidqZIysu"
      },
      "execution_count": 16,
      "outputs": []
    },
    {
      "cell_type": "code",
      "source": [
        "random_number1 = tf.random.Generator.from_seed(42)\n",
        "random_number2 =  tf.random.Generator.from_seed(42)\n",
        "print(random_number1.normal(shape=(1,2)))\n",
        "print(random_number2)\n",
        "random_number1 = random_number1.normal(shape =(3,2))\n",
        "random_number2 = random_number2.normal(shape=(3,2))\n",
        "\n",
        "random_number1, random_number2, random_number1 == random_number2"
      ],
      "metadata": {
        "colab": {
          "base_uri": "https://localhost:8080/"
        },
        "id": "QarGzfLvIy_q",
        "outputId": "654c1cbb-dc36-4202-b03d-7c2de61f3ced"
      },
      "execution_count": 17,
      "outputs": [
        {
          "output_type": "stream",
          "name": "stdout",
          "text": [
            "tf.Tensor([[-0.7565803  -0.06854702]], shape=(1, 2), dtype=float32)\n",
            "<tensorflow.python.ops.stateful_random_ops.Generator object at 0x7e02d5fee110>\n"
          ]
        },
        {
          "output_type": "execute_result",
          "data": {
            "text/plain": [
              "(<tf.Tensor: shape=(3, 2), dtype=float32, numpy=\n",
              " array([[ 0.9029392 , -0.12441138],\n",
              "        [ 1.8243233 , -0.56251436],\n",
              "        [-1.7110394 ,  1.1681837 ]], dtype=float32)>,\n",
              " <tf.Tensor: shape=(3, 2), dtype=float32, numpy=\n",
              " array([[-0.7565803 , -0.06854702],\n",
              "        [ 0.07595026, -1.2573844 ],\n",
              "        [-0.23193763, -1.8107855 ]], dtype=float32)>,\n",
              " <tf.Tensor: shape=(3, 2), dtype=bool, numpy=\n",
              " array([[False, False],\n",
              "        [False, False],\n",
              "        [False, False]])>)"
            ]
          },
          "metadata": {},
          "execution_count": 17
        }
      ]
    },
    {
      "cell_type": "code",
      "source": [
        "non_sufle = tf.constant([[10,4],[4,3],[6,7]])\n",
        "non_sufle"
      ],
      "metadata": {
        "colab": {
          "base_uri": "https://localhost:8080/"
        },
        "id": "lpgOjop4VdR0",
        "outputId": "a139f720-dce9-4f6d-c5e1-f3749983f950"
      },
      "execution_count": 18,
      "outputs": [
        {
          "output_type": "execute_result",
          "data": {
            "text/plain": [
              "<tf.Tensor: shape=(3, 2), dtype=int32, numpy=\n",
              "array([[10,  4],\n",
              "       [ 4,  3],\n",
              "       [ 6,  7]], dtype=int32)>"
            ]
          },
          "metadata": {},
          "execution_count": 18
        }
      ]
    },
    {
      "cell_type": "markdown",
      "source": [
        "### If we want our suffled tensors to be in the same order. WE need to use gloabl level random seed else we can use operation level seed to generate random tensors each time"
      ],
      "metadata": {
        "id": "WmSlhjK72gcB"
      }
    },
    {
      "cell_type": "code",
      "source": [
        "# tf.random.set_seed(42) # Global level random seed\n",
        "tf.random.shuffle(non_sufle,seed= 42) #operation level random seed"
      ],
      "metadata": {
        "colab": {
          "base_uri": "https://localhost:8080/"
        },
        "id": "ZE-5i14oYTDp",
        "outputId": "114e9f15-f47a-4fde-b718-37402e7aeabb"
      },
      "execution_count": 19,
      "outputs": [
        {
          "output_type": "execute_result",
          "data": {
            "text/plain": [
              "<tf.Tensor: shape=(3, 2), dtype=int32, numpy=\n",
              "array([[ 6,  7],\n",
              "       [ 4,  3],\n",
              "       [10,  4]], dtype=int32)>"
            ]
          },
          "metadata": {},
          "execution_count": 19
        }
      ]
    },
    {
      "cell_type": "code",
      "source": [
        "tf.ones([10,7])\n"
      ],
      "metadata": {
        "id": "A45eU50LY9Sd",
        "colab": {
          "base_uri": "https://localhost:8080/"
        },
        "outputId": "1a25a463-5d7d-4018-9eab-e4dfa9137ddd"
      },
      "execution_count": 20,
      "outputs": [
        {
          "output_type": "execute_result",
          "data": {
            "text/plain": [
              "<tf.Tensor: shape=(10, 7), dtype=float32, numpy=\n",
              "array([[1., 1., 1., 1., 1., 1., 1.],\n",
              "       [1., 1., 1., 1., 1., 1., 1.],\n",
              "       [1., 1., 1., 1., 1., 1., 1.],\n",
              "       [1., 1., 1., 1., 1., 1., 1.],\n",
              "       [1., 1., 1., 1., 1., 1., 1.],\n",
              "       [1., 1., 1., 1., 1., 1., 1.],\n",
              "       [1., 1., 1., 1., 1., 1., 1.],\n",
              "       [1., 1., 1., 1., 1., 1., 1.],\n",
              "       [1., 1., 1., 1., 1., 1., 1.],\n",
              "       [1., 1., 1., 1., 1., 1., 1.]], dtype=float32)>"
            ]
          },
          "metadata": {},
          "execution_count": 20
        }
      ]
    },
    {
      "cell_type": "code",
      "source": [
        "tf.ones(shape=(10,7))"
      ],
      "metadata": {
        "colab": {
          "base_uri": "https://localhost:8080/"
        },
        "id": "0f6YbYO13YKD",
        "outputId": "c3c8f656-8117-4d84-8761-d43e490f0039"
      },
      "execution_count": 21,
      "outputs": [
        {
          "output_type": "execute_result",
          "data": {
            "text/plain": [
              "<tf.Tensor: shape=(10, 7), dtype=float32, numpy=\n",
              "array([[1., 1., 1., 1., 1., 1., 1.],\n",
              "       [1., 1., 1., 1., 1., 1., 1.],\n",
              "       [1., 1., 1., 1., 1., 1., 1.],\n",
              "       [1., 1., 1., 1., 1., 1., 1.],\n",
              "       [1., 1., 1., 1., 1., 1., 1.],\n",
              "       [1., 1., 1., 1., 1., 1., 1.],\n",
              "       [1., 1., 1., 1., 1., 1., 1.],\n",
              "       [1., 1., 1., 1., 1., 1., 1.],\n",
              "       [1., 1., 1., 1., 1., 1., 1.],\n",
              "       [1., 1., 1., 1., 1., 1., 1.]], dtype=float32)>"
            ]
          },
          "metadata": {},
          "execution_count": 21
        }
      ]
    },
    {
      "cell_type": "code",
      "source": [
        "tf.zeros([5,2],dtype=tf.dtypes.int16)"
      ],
      "metadata": {
        "colab": {
          "base_uri": "https://localhost:8080/"
        },
        "id": "NvYT2duG3bwl",
        "outputId": "5b4bddfe-6296-4fe0-9936-033929743eb4"
      },
      "execution_count": 22,
      "outputs": [
        {
          "output_type": "execute_result",
          "data": {
            "text/plain": [
              "<tf.Tensor: shape=(5, 2), dtype=int16, numpy=\n",
              "array([[0, 0],\n",
              "       [0, 0],\n",
              "       [0, 0],\n",
              "       [0, 0],\n",
              "       [0, 0]], dtype=int16)>"
            ]
          },
          "metadata": {},
          "execution_count": 22
        }
      ]
    },
    {
      "cell_type": "markdown",
      "source": [
        "### Turn NumPy arrays intn tensors\n"
      ],
      "metadata": {
        "id": "doBC3cF539uL"
      }
    },
    {
      "cell_type": "markdown",
      "source": [
        " The main difference between numpy array and tensors are tensors can be run on a GPU (much faster for numerical computing)"
      ],
      "metadata": {
        "id": "GY11q9YU4Lms"
      }
    },
    {
      "cell_type": "code",
      "source": [
        "import numpy as np\n",
        "numpy_A = np.arange(1,25,dtype=np.int32)\n",
        "numpy_A\n",
        "\n",
        "# X = tf.constant(some_matrix) # capital for matrix or tensor\n",
        "# y = tf.constant(vector) # non-capital for vector"
      ],
      "metadata": {
        "colab": {
          "base_uri": "https://localhost:8080/"
        },
        "id": "hQ1zY3X54Ghz",
        "outputId": "ccfffdb9-11c3-4212-f961-fa5df66968b1"
      },
      "execution_count": 23,
      "outputs": [
        {
          "output_type": "execute_result",
          "data": {
            "text/plain": [
              "array([ 1,  2,  3,  4,  5,  6,  7,  8,  9, 10, 11, 12, 13, 14, 15, 16, 17,\n",
              "       18, 19, 20, 21, 22, 23, 24], dtype=int32)"
            ]
          },
          "metadata": {},
          "execution_count": 23
        }
      ]
    },
    {
      "cell_type": "code",
      "source": [
        "A = tf.constant(numpy_A, shape=(2,2,3,2))\n",
        "A"
      ],
      "metadata": {
        "colab": {
          "base_uri": "https://localhost:8080/"
        },
        "id": "vwkp62HB41WU",
        "outputId": "d59a49dd-2dd5-44a9-8a46-ee2f271152cd"
      },
      "execution_count": 24,
      "outputs": [
        {
          "output_type": "execute_result",
          "data": {
            "text/plain": [
              "<tf.Tensor: shape=(2, 2, 3, 2), dtype=int32, numpy=\n",
              "array([[[[ 1,  2],\n",
              "         [ 3,  4],\n",
              "         [ 5,  6]],\n",
              "\n",
              "        [[ 7,  8],\n",
              "         [ 9, 10],\n",
              "         [11, 12]]],\n",
              "\n",
              "\n",
              "       [[[13, 14],\n",
              "         [15, 16],\n",
              "         [17, 18]],\n",
              "\n",
              "        [[19, 20],\n",
              "         [21, 22],\n",
              "         [23, 24]]]], dtype=int32)>"
            ]
          },
          "metadata": {},
          "execution_count": 24
        }
      ]
    },
    {
      "cell_type": "code",
      "source": [
        "2*2*3*2\n"
      ],
      "metadata": {
        "colab": {
          "base_uri": "https://localhost:8080/"
        },
        "id": "8ea9koxW5TgV",
        "outputId": "8dfbc7ec-ee29-40d0-ff5b-92b69058e3ef"
      },
      "execution_count": 25,
      "outputs": [
        {
          "output_type": "execute_result",
          "data": {
            "text/plain": [
              "24"
            ]
          },
          "metadata": {},
          "execution_count": 25
        }
      ]
    },
    {
      "cell_type": "markdown",
      "source": [
        "### Getting information from tensors\n",
        "\n",
        "* shape\n",
        "* Rank - ndim\n",
        "* Axis or dimensions\n",
        "* size - total item in tensor"
      ],
      "metadata": {
        "id": "isfP7-Jo6rCT"
      }
    },
    {
      "cell_type": "code",
      "source": [
        "A = tf.constant([[[[3,4]]]])\n",
        "A.ndim"
      ],
      "metadata": {
        "colab": {
          "base_uri": "https://localhost:8080/"
        },
        "id": "ST05-wS9659h",
        "outputId": "ea8d9403-7211-4c7f-d184-ac6587ef1fbf"
      },
      "execution_count": 26,
      "outputs": [
        {
          "output_type": "execute_result",
          "data": {
            "text/plain": [
              "4"
            ]
          },
          "metadata": {},
          "execution_count": 26
        }
      ]
    },
    {
      "cell_type": "code",
      "source": [
        "rank_4_tf = tf.zeros([2,3,4,5])"
      ],
      "metadata": {
        "id": "eSgMe6dL8ZkH"
      },
      "execution_count": 27,
      "outputs": []
    },
    {
      "cell_type": "code",
      "source": [
        "rank_4_tf"
      ],
      "metadata": {
        "colab": {
          "base_uri": "https://localhost:8080/"
        },
        "id": "gL9nq2_-8rLn",
        "outputId": "e942f0a6-de41-4d81-b99f-62bee60e2d24"
      },
      "execution_count": 28,
      "outputs": [
        {
          "output_type": "execute_result",
          "data": {
            "text/plain": [
              "<tf.Tensor: shape=(2, 3, 4, 5), dtype=float32, numpy=\n",
              "array([[[[0., 0., 0., 0., 0.],\n",
              "         [0., 0., 0., 0., 0.],\n",
              "         [0., 0., 0., 0., 0.],\n",
              "         [0., 0., 0., 0., 0.]],\n",
              "\n",
              "        [[0., 0., 0., 0., 0.],\n",
              "         [0., 0., 0., 0., 0.],\n",
              "         [0., 0., 0., 0., 0.],\n",
              "         [0., 0., 0., 0., 0.]],\n",
              "\n",
              "        [[0., 0., 0., 0., 0.],\n",
              "         [0., 0., 0., 0., 0.],\n",
              "         [0., 0., 0., 0., 0.],\n",
              "         [0., 0., 0., 0., 0.]]],\n",
              "\n",
              "\n",
              "       [[[0., 0., 0., 0., 0.],\n",
              "         [0., 0., 0., 0., 0.],\n",
              "         [0., 0., 0., 0., 0.],\n",
              "         [0., 0., 0., 0., 0.]],\n",
              "\n",
              "        [[0., 0., 0., 0., 0.],\n",
              "         [0., 0., 0., 0., 0.],\n",
              "         [0., 0., 0., 0., 0.],\n",
              "         [0., 0., 0., 0., 0.]],\n",
              "\n",
              "        [[0., 0., 0., 0., 0.],\n",
              "         [0., 0., 0., 0., 0.],\n",
              "         [0., 0., 0., 0., 0.],\n",
              "         [0., 0., 0., 0., 0.]]]], dtype=float32)>"
            ]
          },
          "metadata": {},
          "execution_count": 28
        }
      ]
    },
    {
      "cell_type": "code",
      "source": [
        "rank_4_tf[0]"
      ],
      "metadata": {
        "colab": {
          "base_uri": "https://localhost:8080/"
        },
        "id": "7vURurSp8tEp",
        "outputId": "5a4ff876-24e1-4849-e9ff-89480643848f"
      },
      "execution_count": 29,
      "outputs": [
        {
          "output_type": "execute_result",
          "data": {
            "text/plain": [
              "<tf.Tensor: shape=(3, 4, 5), dtype=float32, numpy=\n",
              "array([[[0., 0., 0., 0., 0.],\n",
              "        [0., 0., 0., 0., 0.],\n",
              "        [0., 0., 0., 0., 0.],\n",
              "        [0., 0., 0., 0., 0.]],\n",
              "\n",
              "       [[0., 0., 0., 0., 0.],\n",
              "        [0., 0., 0., 0., 0.],\n",
              "        [0., 0., 0., 0., 0.],\n",
              "        [0., 0., 0., 0., 0.]],\n",
              "\n",
              "       [[0., 0., 0., 0., 0.],\n",
              "        [0., 0., 0., 0., 0.],\n",
              "        [0., 0., 0., 0., 0.],\n",
              "        [0., 0., 0., 0., 0.]]], dtype=float32)>"
            ]
          },
          "metadata": {},
          "execution_count": 29
        }
      ]
    },
    {
      "cell_type": "code",
      "source": [
        "rank_4_tf[0][0]"
      ],
      "metadata": {
        "colab": {
          "base_uri": "https://localhost:8080/"
        },
        "id": "d5U81IHV9F0Y",
        "outputId": "d4b813a2-234c-454a-d163-7e693add4eb5"
      },
      "execution_count": 30,
      "outputs": [
        {
          "output_type": "execute_result",
          "data": {
            "text/plain": [
              "<tf.Tensor: shape=(4, 5), dtype=float32, numpy=\n",
              "array([[0., 0., 0., 0., 0.],\n",
              "       [0., 0., 0., 0., 0.],\n",
              "       [0., 0., 0., 0., 0.],\n",
              "       [0., 0., 0., 0., 0.]], dtype=float32)>"
            ]
          },
          "metadata": {},
          "execution_count": 30
        }
      ]
    },
    {
      "cell_type": "code",
      "source": [
        "rank_4_tf.shape, rank_4_tf.ndim, tf.size(rank_4_tf)"
      ],
      "metadata": {
        "colab": {
          "base_uri": "https://localhost:8080/"
        },
        "id": "TLvamBex9E83",
        "outputId": "ebb3d154-cd53-4ae0-a7e5-f51bfd53b313"
      },
      "execution_count": 31,
      "outputs": [
        {
          "output_type": "execute_result",
          "data": {
            "text/plain": [
              "(TensorShape([2, 3, 4, 5]), 4, <tf.Tensor: shape=(), dtype=int32, numpy=120>)"
            ]
          },
          "metadata": {},
          "execution_count": 31
        }
      ]
    },
    {
      "cell_type": "code",
      "source": [
        "# Attritutes of tensors\n",
        "print(\"Data type of every element: \", rank_4_tf.dtype)\n",
        "print(\"Number of dimensions (rank): \", rank_4_tf.ndim)\n",
        "print(\"Shape of tensor: \", rank_4_tf.shape)\n",
        "print(\"Elements along the 0 axis: \", rank_4_tf.shape[0])\n",
        "print(\"Elements along the last axis: \", rank_4_tf.shape[-1])\n",
        "print(\"Total number of elements in our tensor: \", tf.size(rank_4_tf))\n",
        "print(\"Total number of elements in our tensor: \", tf.size(rank_4_tf).numpy())"
      ],
      "metadata": {
        "colab": {
          "base_uri": "https://localhost:8080/"
        },
        "id": "SfsAdv669P4n",
        "outputId": "ea3d1781-6dbf-4a0b-c402-66fbe4612480"
      },
      "execution_count": 32,
      "outputs": [
        {
          "output_type": "stream",
          "name": "stdout",
          "text": [
            "Data type of every element:  <dtype: 'float32'>\n",
            "Number of dimensions (rank):  4\n",
            "Shape of tensor:  (2, 3, 4, 5)\n",
            "Elements along the 0 axis:  2\n",
            "Elements along the last axis:  5\n",
            "Total number of elements in our tensor:  tf.Tensor(120, shape=(), dtype=int32)\n",
            "Total number of elements in our tensor:  120\n"
          ]
        }
      ]
    },
    {
      "cell_type": "markdown",
      "source": [
        "### Indexing tensors\n",
        "\n",
        "Tensors can be indexed ust like python\n"
      ],
      "metadata": {
        "id": "06lJ-o89_OQK"
      }
    },
    {
      "cell_type": "code",
      "source": [
        "# get the first 2 element of dimentions"
      ],
      "metadata": {
        "id": "FaCifd1a_RiR"
      },
      "execution_count": 33,
      "outputs": []
    },
    {
      "cell_type": "code",
      "source": [
        "rank_4_tf"
      ],
      "metadata": {
        "colab": {
          "base_uri": "https://localhost:8080/"
        },
        "id": "qBXW1I2m_cAw",
        "outputId": "c93a8cd0-a5f4-45d8-e2ab-a75c2d9c027a"
      },
      "execution_count": 34,
      "outputs": [
        {
          "output_type": "execute_result",
          "data": {
            "text/plain": [
              "<tf.Tensor: shape=(2, 3, 4, 5), dtype=float32, numpy=\n",
              "array([[[[0., 0., 0., 0., 0.],\n",
              "         [0., 0., 0., 0., 0.],\n",
              "         [0., 0., 0., 0., 0.],\n",
              "         [0., 0., 0., 0., 0.]],\n",
              "\n",
              "        [[0., 0., 0., 0., 0.],\n",
              "         [0., 0., 0., 0., 0.],\n",
              "         [0., 0., 0., 0., 0.],\n",
              "         [0., 0., 0., 0., 0.]],\n",
              "\n",
              "        [[0., 0., 0., 0., 0.],\n",
              "         [0., 0., 0., 0., 0.],\n",
              "         [0., 0., 0., 0., 0.],\n",
              "         [0., 0., 0., 0., 0.]]],\n",
              "\n",
              "\n",
              "       [[[0., 0., 0., 0., 0.],\n",
              "         [0., 0., 0., 0., 0.],\n",
              "         [0., 0., 0., 0., 0.],\n",
              "         [0., 0., 0., 0., 0.]],\n",
              "\n",
              "        [[0., 0., 0., 0., 0.],\n",
              "         [0., 0., 0., 0., 0.],\n",
              "         [0., 0., 0., 0., 0.],\n",
              "         [0., 0., 0., 0., 0.]],\n",
              "\n",
              "        [[0., 0., 0., 0., 0.],\n",
              "         [0., 0., 0., 0., 0.],\n",
              "         [0., 0., 0., 0., 0.],\n",
              "         [0., 0., 0., 0., 0.]]]], dtype=float32)>"
            ]
          },
          "metadata": {},
          "execution_count": 34
        }
      ]
    },
    {
      "cell_type": "code",
      "source": [
        "rank_4_tf[:2,:2,:2,:2]"
      ],
      "metadata": {
        "colab": {
          "base_uri": "https://localhost:8080/"
        },
        "id": "14i05YeN_kTe",
        "outputId": "97b7ba1e-0742-44a9-9554-e9260a79b04a"
      },
      "execution_count": 35,
      "outputs": [
        {
          "output_type": "execute_result",
          "data": {
            "text/plain": [
              "<tf.Tensor: shape=(2, 2, 2, 2), dtype=float32, numpy=\n",
              "array([[[[0., 0.],\n",
              "         [0., 0.]],\n",
              "\n",
              "        [[0., 0.],\n",
              "         [0., 0.]]],\n",
              "\n",
              "\n",
              "       [[[0., 0.],\n",
              "         [0., 0.]],\n",
              "\n",
              "        [[0., 0.],\n",
              "         [0., 0.]]]], dtype=float32)>"
            ]
          },
          "metadata": {},
          "execution_count": 35
        }
      ]
    },
    {
      "cell_type": "code",
      "source": [
        "# Get the first element from each dimention from each index except for the finle one\n",
        "print(rank_4_tf[0,0,0])\n",
        "print('------------------') # below one is correct\n",
        "print(rank_4_tf[:1,:1,:1])"
      ],
      "metadata": {
        "colab": {
          "base_uri": "https://localhost:8080/"
        },
        "id": "TKft3z12_6S3",
        "outputId": "fc1b3ba5-a5d6-490d-cf14-38bdb50c9451"
      },
      "execution_count": 36,
      "outputs": [
        {
          "output_type": "stream",
          "name": "stdout",
          "text": [
            "tf.Tensor([0. 0. 0. 0. 0.], shape=(5,), dtype=float32)\n",
            "------------------\n",
            "tf.Tensor([[[[0. 0. 0. 0. 0.]]]], shape=(1, 1, 1, 5), dtype=float32)\n"
          ]
        }
      ]
    },
    {
      "cell_type": "code",
      "source": [
        "# Get the first element from each dimention from each index except for the second last one\n",
        "print(rank_4_tf[:1,:1,:,:1])"
      ],
      "metadata": {
        "colab": {
          "base_uri": "https://localhost:8080/"
        },
        "id": "dCvDgrMjAjQH",
        "outputId": "78676445-39a5-4776-d2fa-91de98eee268"
      },
      "execution_count": 37,
      "outputs": [
        {
          "output_type": "stream",
          "name": "stdout",
          "text": [
            "tf.Tensor(\n",
            "[[[[0.]\n",
            "   [0.]\n",
            "   [0.]\n",
            "   [0.]]]], shape=(1, 1, 4, 1), dtype=float32)\n"
          ]
        }
      ]
    },
    {
      "cell_type": "code",
      "source": [
        "rank_4_tf.shape"
      ],
      "metadata": {
        "colab": {
          "base_uri": "https://localhost:8080/"
        },
        "id": "PBPqqJSHBwcN",
        "outputId": "da00a259-1f7c-4779-bcfc-12cdc04f8d7d"
      },
      "execution_count": 38,
      "outputs": [
        {
          "output_type": "execute_result",
          "data": {
            "text/plain": [
              "TensorShape([2, 3, 4, 5])"
            ]
          },
          "metadata": {},
          "execution_count": 38
        }
      ]
    },
    {
      "cell_type": "code",
      "source": [
        "2*3*4*5"
      ],
      "metadata": {
        "colab": {
          "base_uri": "https://localhost:8080/"
        },
        "id": "Tah16LdbB0TU",
        "outputId": "535c3421-35b7-43cf-d6ec-ff8c23f1d536"
      },
      "execution_count": 39,
      "outputs": [
        {
          "output_type": "execute_result",
          "data": {
            "text/plain": [
              "120"
            ]
          },
          "metadata": {},
          "execution_count": 39
        }
      ]
    },
    {
      "cell_type": "code",
      "source": [
        "8*15"
      ],
      "metadata": {
        "colab": {
          "base_uri": "https://localhost:8080/"
        },
        "id": "YVIOzFbaB72k",
        "outputId": "29312548-bc8e-434b-b36a-92cd00db693e"
      },
      "execution_count": 40,
      "outputs": [
        {
          "output_type": "execute_result",
          "data": {
            "text/plain": [
              "120"
            ]
          },
          "metadata": {},
          "execution_count": 40
        }
      ]
    },
    {
      "cell_type": "markdown",
      "source": [
        "### Manipulating tensors\n",
        "\n",
        "**Basic Opearation**\n",
        "+ , -, / , *"
      ],
      "metadata": {
        "id": "41fa7QmH9SkX"
      }
    },
    {
      "cell_type": "code",
      "source": [
        "tensor = tf.constant([[10,7],[3,4]])\n",
        "tensor + 5"
      ],
      "metadata": {
        "colab": {
          "base_uri": "https://localhost:8080/"
        },
        "id": "6nGficf29VS3",
        "outputId": "bd4d0c65-59ba-4d74-afc9-44e39c20d734"
      },
      "execution_count": 41,
      "outputs": [
        {
          "output_type": "execute_result",
          "data": {
            "text/plain": [
              "<tf.Tensor: shape=(2, 2), dtype=int32, numpy=\n",
              "array([[15, 12],\n",
              "       [ 8,  9]], dtype=int32)>"
            ]
          },
          "metadata": {},
          "execution_count": 41
        }
      ]
    },
    {
      "cell_type": "code",
      "source": [
        "# original value doesn't change unless we do  =\n",
        "tensor\n",
        "# we can do al operation -, /, *"
      ],
      "metadata": {
        "colab": {
          "base_uri": "https://localhost:8080/"
        },
        "id": "DSmDNNQP9mzF",
        "outputId": "7a6cb963-1698-46db-aa00-ca4484cb2686"
      },
      "execution_count": 42,
      "outputs": [
        {
          "output_type": "execute_result",
          "data": {
            "text/plain": [
              "<tf.Tensor: shape=(2, 2), dtype=int32, numpy=\n",
              "array([[10,  7],\n",
              "       [ 3,  4]], dtype=int32)>"
            ]
          },
          "metadata": {},
          "execution_count": 42
        }
      ]
    },
    {
      "cell_type": "code",
      "source": [
        "# we can use tensor flow libray\n",
        "tf.math.multiply(tensor,5)"
      ],
      "metadata": {
        "colab": {
          "base_uri": "https://localhost:8080/"
        },
        "id": "RIrAL0_897ry",
        "outputId": "11602859-0347-4701-b9f5-bdc8c4c4f50d"
      },
      "execution_count": 43,
      "outputs": [
        {
          "output_type": "execute_result",
          "data": {
            "text/plain": [
              "<tf.Tensor: shape=(2, 2), dtype=int32, numpy=\n",
              "array([[50, 35],\n",
              "       [15, 20]], dtype=int32)>"
            ]
          },
          "metadata": {},
          "execution_count": 43
        }
      ]
    },
    {
      "cell_type": "markdown",
      "source": [
        "### Matrix multiplication"
      ],
      "metadata": {
        "id": "qvVhODQK-o29"
      }
    },
    {
      "cell_type": "code",
      "source": [
        "# Matrix multipliction in tensorfow\n",
        "a = tf.constant([1,2,5,7,2,1,3,3,3], shape=(3,3))\n",
        "print(a)\n",
        "b = tf.constant([3,5,6,7,1,8], shape=(3,2))\n",
        "print(b)\n",
        "tensor = tf.linalg.matmul(a,b)\n",
        "tensor"
      ],
      "metadata": {
        "colab": {
          "base_uri": "https://localhost:8080/"
        },
        "id": "K-ecHRPQ-qz1",
        "outputId": "45c3bdd5-d0d2-4176-e702-fcebb2095b4a"
      },
      "execution_count": 44,
      "outputs": [
        {
          "output_type": "stream",
          "name": "stdout",
          "text": [
            "tf.Tensor(\n",
            "[[1 2 5]\n",
            " [7 2 1]\n",
            " [3 3 3]], shape=(3, 3), dtype=int32)\n",
            "tf.Tensor(\n",
            "[[3 5]\n",
            " [6 7]\n",
            " [1 8]], shape=(3, 2), dtype=int32)\n"
          ]
        },
        {
          "output_type": "execute_result",
          "data": {
            "text/plain": [
              "<tf.Tensor: shape=(3, 2), dtype=int32, numpy=\n",
              "array([[20, 59],\n",
              "       [34, 57],\n",
              "       [30, 60]], dtype=int32)>"
            ]
          },
          "metadata": {},
          "execution_count": 44
        }
      ]
    },
    {
      "cell_type": "code",
      "source": [
        "# Matrix multiplication in python\n",
        "a @ b"
      ],
      "metadata": {
        "colab": {
          "base_uri": "https://localhost:8080/"
        },
        "id": "zkHzg4DFCLGa",
        "outputId": "ed6fdb60-c368-4162-f50b-1e4f041fb3be"
      },
      "execution_count": 45,
      "outputs": [
        {
          "output_type": "execute_result",
          "data": {
            "text/plain": [
              "<tf.Tensor: shape=(3, 2), dtype=int32, numpy=\n",
              "array([[20, 59],\n",
              "       [34, 57],\n",
              "       [30, 60]], dtype=int32)>"
            ]
          },
          "metadata": {},
          "execution_count": 45
        }
      ]
    },
    {
      "cell_type": "markdown",
      "source": [
        "##### Mulplying two tensores of same shape"
      ],
      "metadata": {
        "id": "IY2-ABalEWwA"
      }
    },
    {
      "cell_type": "code",
      "source": [
        "X = tf.constant([[1,2],\n",
        "                 [3,4],\n",
        "                 [5,6]])"
      ],
      "metadata": {
        "id": "s68o5m56CoZR"
      },
      "execution_count": 46,
      "outputs": []
    },
    {
      "cell_type": "code",
      "source": [
        "Y = tf.constant([[7,8],\n",
        "                 [9,10],\n",
        "                 [11,12]])"
      ],
      "metadata": {
        "id": "IglwJlXhEQHW"
      },
      "execution_count": 47,
      "outputs": []
    },
    {
      "cell_type": "code",
      "source": [
        "# X @ Y # error occurs"
      ],
      "metadata": {
        "id": "NBp-Sr6aEVR1"
      },
      "execution_count": 48,
      "outputs": []
    },
    {
      "cell_type": "code",
      "source": [
        "X"
      ],
      "metadata": {
        "colab": {
          "base_uri": "https://localhost:8080/"
        },
        "id": "NxSk3IpHH44j",
        "outputId": "56d84280-6be1-499d-b9e3-eb616d206986"
      },
      "execution_count": 49,
      "outputs": [
        {
          "output_type": "execute_result",
          "data": {
            "text/plain": [
              "<tf.Tensor: shape=(3, 2), dtype=int32, numpy=\n",
              "array([[1, 2],\n",
              "       [3, 4],\n",
              "       [5, 6]], dtype=int32)>"
            ]
          },
          "metadata": {},
          "execution_count": 49
        }
      ]
    },
    {
      "cell_type": "code",
      "source": [
        "Y = tf.reshape(Y, shape =(2,3))\n",
        "print(Y)"
      ],
      "metadata": {
        "colab": {
          "base_uri": "https://localhost:8080/"
        },
        "id": "o1929TD7EgvF",
        "outputId": "4ece552e-2512-4b2d-b1e0-fb52ef405b29"
      },
      "execution_count": 50,
      "outputs": [
        {
          "output_type": "stream",
          "name": "stdout",
          "text": [
            "tf.Tensor(\n",
            "[[ 7  8  9]\n",
            " [10 11 12]], shape=(2, 3), dtype=int32)\n"
          ]
        }
      ]
    },
    {
      "cell_type": "code",
      "source": [
        "X @ Y"
      ],
      "metadata": {
        "colab": {
          "base_uri": "https://localhost:8080/"
        },
        "id": "8cxHV0AxHu9j",
        "outputId": "ef42836f-a804-4090-9265-968f926b1a9d"
      },
      "execution_count": 51,
      "outputs": [
        {
          "output_type": "execute_result",
          "data": {
            "text/plain": [
              "<tf.Tensor: shape=(3, 3), dtype=int32, numpy=\n",
              "array([[ 27,  30,  33],\n",
              "       [ 61,  68,  75],\n",
              "       [ 95, 106, 117]], dtype=int32)>"
            ]
          },
          "metadata": {},
          "execution_count": 51
        }
      ]
    },
    {
      "cell_type": "code",
      "source": [
        "Y"
      ],
      "metadata": {
        "colab": {
          "base_uri": "https://localhost:8080/"
        },
        "id": "fMKtgOl9QXmM",
        "outputId": "c1d6cb75-4dcf-4d23-d05f-13b1d9c63df6"
      },
      "execution_count": 52,
      "outputs": [
        {
          "output_type": "execute_result",
          "data": {
            "text/plain": [
              "<tf.Tensor: shape=(2, 3), dtype=int32, numpy=\n",
              "array([[ 7,  8,  9],\n",
              "       [10, 11, 12]], dtype=int32)>"
            ]
          },
          "metadata": {},
          "execution_count": 52
        }
      ]
    },
    {
      "cell_type": "code",
      "source": [
        "New_datatype = tf.cast(Y, dtype = tf.float16)\n",
        "New_datatype"
      ],
      "metadata": {
        "colab": {
          "base_uri": "https://localhost:8080/"
        },
        "id": "CkaN6Qr8QYz-",
        "outputId": "29b95d7d-3584-4590-ad7b-eaedaa06e32a"
      },
      "execution_count": 53,
      "outputs": [
        {
          "output_type": "execute_result",
          "data": {
            "text/plain": [
              "<tf.Tensor: shape=(2, 3), dtype=float16, numpy=\n",
              "array([[ 7.,  8.,  9.],\n",
              "       [10., 11., 12.]], dtype=float16)>"
            ]
          },
          "metadata": {},
          "execution_count": 53
        }
      ]
    },
    {
      "cell_type": "markdown",
      "source": [
        "### Aggregating Tensors\n",
        "\n",
        "Aggregating tensoes means reducing tensors to smaller values"
      ],
      "metadata": {
        "id": "CERz5VwwoLp7"
      }
    },
    {
      "cell_type": "code",
      "source": [
        "# Getting the absolute values\n",
        "D = tf.constant([-7,-10])\n",
        "D, tf.abs(D)"
      ],
      "metadata": {
        "colab": {
          "base_uri": "https://localhost:8080/"
        },
        "id": "yUlFT0YOn3jK",
        "outputId": "667e7669-79d4-44d3-dac6-1a8c757d0d8a"
      },
      "execution_count": 54,
      "outputs": [
        {
          "output_type": "execute_result",
          "data": {
            "text/plain": [
              "(<tf.Tensor: shape=(2,), dtype=int32, numpy=array([ -7, -10], dtype=int32)>,\n",
              " <tf.Tensor: shape=(2,), dtype=int32, numpy=array([ 7, 10], dtype=int32)>)"
            ]
          },
          "metadata": {},
          "execution_count": 54
        }
      ]
    },
    {
      "cell_type": "markdown",
      "source": [
        "Let's go through the following aggregatin\n",
        "*minimum\n",
        "*maximum\n",
        "*mean\n",
        "*sum"
      ],
      "metadata": {
        "id": "vfQmH4CBo1mi"
      }
    },
    {
      "cell_type": "code",
      "source": [
        "# Create a random tensor with the values between 0 to 100 of size 50\n",
        "E = tf.constant(np.random.randint(0,100, size = 50))\n",
        "E"
      ],
      "metadata": {
        "colab": {
          "base_uri": "https://localhost:8080/"
        },
        "id": "PDEz9-RZohfJ",
        "outputId": "1bc02e3a-3bca-400b-ff76-727a7ab6f031"
      },
      "execution_count": 55,
      "outputs": [
        {
          "output_type": "execute_result",
          "data": {
            "text/plain": [
              "<tf.Tensor: shape=(50,), dtype=int64, numpy=\n",
              "array([74, 18, 66, 22, 43, 22, 54, 60, 32, 94, 61, 64, 53, 81, 23,  9, 54,\n",
              "       98, 13, 49, 70,  8, 28, 61, 34, 67,  5, 10, 25, 80, 57,  5,  4, 43,\n",
              "       66, 21, 14, 29, 90, 97, 48,  4, 44, 81, 10, 63, 74, 73, 83, 30])>"
            ]
          },
          "metadata": {},
          "execution_count": 55
        }
      ]
    },
    {
      "cell_type": "code",
      "source": [
        "E.shape, tf.size(E), E.dtype, E.ndim"
      ],
      "metadata": {
        "colab": {
          "base_uri": "https://localhost:8080/"
        },
        "id": "ldEj81cepqOv",
        "outputId": "8322f8a9-9250-4e90-8e0a-6a7b0ed83f8a"
      },
      "execution_count": 56,
      "outputs": [
        {
          "output_type": "execute_result",
          "data": {
            "text/plain": [
              "(TensorShape([50]), <tf.Tensor: shape=(), dtype=int32, numpy=50>, tf.int64, 1)"
            ]
          },
          "metadata": {},
          "execution_count": 56
        }
      ]
    },
    {
      "cell_type": "code",
      "source": [
        "tf.math.reduce_min(E, axis=0)"
      ],
      "metadata": {
        "colab": {
          "base_uri": "https://localhost:8080/"
        },
        "id": "xgvwI02IqSbH",
        "outputId": "8f4bacbd-ff4f-4c5d-fb06-3ae1945af22b"
      },
      "execution_count": 57,
      "outputs": [
        {
          "output_type": "execute_result",
          "data": {
            "text/plain": [
              "<tf.Tensor: shape=(), dtype=int64, numpy=4>"
            ]
          },
          "metadata": {},
          "execution_count": 57
        }
      ]
    },
    {
      "cell_type": "code",
      "source": [
        "tf.math.reduce_max(E)"
      ],
      "metadata": {
        "colab": {
          "base_uri": "https://localhost:8080/"
        },
        "id": "GYPiypq2q16a",
        "outputId": "08014dda-364a-4a82-f6ba-fbca3877c9b7"
      },
      "execution_count": 58,
      "outputs": [
        {
          "output_type": "execute_result",
          "data": {
            "text/plain": [
              "<tf.Tensor: shape=(), dtype=int64, numpy=98>"
            ]
          },
          "metadata": {},
          "execution_count": 58
        }
      ]
    },
    {
      "cell_type": "code",
      "source": [
        "tf.math.reduce_mean(E).numpy()"
      ],
      "metadata": {
        "colab": {
          "base_uri": "https://localhost:8080/"
        },
        "id": "e_o0dWwSrCjF",
        "outputId": "781a2d5b-5f8e-466b-c09d-adbf96ff164e"
      },
      "execution_count": 59,
      "outputs": [
        {
          "output_type": "execute_result",
          "data": {
            "text/plain": [
              "46"
            ]
          },
          "metadata": {},
          "execution_count": 59
        }
      ]
    },
    {
      "cell_type": "code",
      "source": [
        "# standared devation return float # see tf.std documentation\n",
        "tf.math.reduce_std(tf.cast(E,dtype=tf.float64))"
      ],
      "metadata": {
        "colab": {
          "base_uri": "https://localhost:8080/"
        },
        "id": "4Ug4nW28rQ-o",
        "outputId": "7d5e7973-2430-49c2-8fd2-2c54dadbd876"
      },
      "execution_count": 60,
      "outputs": [
        {
          "output_type": "execute_result",
          "data": {
            "text/plain": [
              "<tf.Tensor: shape=(), dtype=float64, numpy=28.06067711228651>"
            ]
          },
          "metadata": {},
          "execution_count": 60
        }
      ]
    },
    {
      "cell_type": "code",
      "source": [
        "tf.math.reduce_variance(tf.cast(E, dtype=tf.float64))"
      ],
      "metadata": {
        "colab": {
          "base_uri": "https://localhost:8080/"
        },
        "id": "AksPlvjnrxRx",
        "outputId": "cb84c012-a4a6-47bf-bd85-ae9b5e4683d9"
      },
      "execution_count": 61,
      "outputs": [
        {
          "output_type": "execute_result",
          "data": {
            "text/plain": [
              "<tf.Tensor: shape=(), dtype=float64, numpy=787.4016>"
            ]
          },
          "metadata": {},
          "execution_count": 61
        }
      ]
    },
    {
      "cell_type": "markdown",
      "source": [
        "### Find the postitional maximum and minimum\n",
        "Create a new tensoe for finding positional mininum and maximum"
      ],
      "metadata": {
        "id": "hJUUIwd-G2eS"
      }
    },
    {
      "cell_type": "code",
      "source": [
        "tf.random.set_seed(42)\n",
        "F = tf.random.uniform(shape=[50])\n",
        "F"
      ],
      "metadata": {
        "colab": {
          "base_uri": "https://localhost:8080/"
        },
        "id": "wE5WBCNcsgGt",
        "outputId": "b1c32e2f-6210-4b0d-f5fc-640ae27882b0"
      },
      "execution_count": 62,
      "outputs": [
        {
          "output_type": "execute_result",
          "data": {
            "text/plain": [
              "<tf.Tensor: shape=(50,), dtype=float32, numpy=\n",
              "array([0.6645621 , 0.44100678, 0.3528825 , 0.46448255, 0.03366041,\n",
              "       0.68467236, 0.74011743, 0.8724445 , 0.22632635, 0.22319686,\n",
              "       0.3103881 , 0.7223358 , 0.13318717, 0.5480639 , 0.5746088 ,\n",
              "       0.8996835 , 0.00946367, 0.5212307 , 0.6345445 , 0.1993283 ,\n",
              "       0.72942245, 0.54583454, 0.10756552, 0.6767061 , 0.6602763 ,\n",
              "       0.33695042, 0.60141766, 0.21062577, 0.8527372 , 0.44062173,\n",
              "       0.9485276 , 0.23752594, 0.81179297, 0.5263394 , 0.494308  ,\n",
              "       0.21612847, 0.8457197 , 0.8718841 , 0.3083862 , 0.6868038 ,\n",
              "       0.23764038, 0.7817228 , 0.9671384 , 0.06870162, 0.79873943,\n",
              "       0.66028714, 0.5871513 , 0.16461694, 0.7381023 , 0.32054043],\n",
              "      dtype=float32)>"
            ]
          },
          "metadata": {},
          "execution_count": 62
        }
      ]
    },
    {
      "cell_type": "code",
      "source": [
        "tf.math.argmax(F) # returns index of largest value in tensor"
      ],
      "metadata": {
        "colab": {
          "base_uri": "https://localhost:8080/"
        },
        "id": "VoqlWyJEHEth",
        "outputId": "75c0adab-8163-45df-d8b3-744c1342f812"
      },
      "execution_count": 63,
      "outputs": [
        {
          "output_type": "execute_result",
          "data": {
            "text/plain": [
              "<tf.Tensor: shape=(), dtype=int64, numpy=42>"
            ]
          },
          "metadata": {},
          "execution_count": 63
        }
      ]
    },
    {
      "cell_type": "code",
      "source": [
        "F[42]"
      ],
      "metadata": {
        "colab": {
          "base_uri": "https://localhost:8080/"
        },
        "id": "DryWEvFnHd1Z",
        "outputId": "0c248034-4693-4bd7-9f4c-19c66d795aae"
      },
      "execution_count": 64,
      "outputs": [
        {
          "output_type": "execute_result",
          "data": {
            "text/plain": [
              "<tf.Tensor: shape=(), dtype=float32, numpy=0.967138409614563>"
            ]
          },
          "metadata": {},
          "execution_count": 64
        }
      ]
    },
    {
      "cell_type": "code",
      "source": [
        "tf.math.reduce_max(F)"
      ],
      "metadata": {
        "colab": {
          "base_uri": "https://localhost:8080/"
        },
        "id": "k0pcS2j9Hryu",
        "outputId": "995a7198-6e48-4f8d-b325-3449a8e5735f"
      },
      "execution_count": 65,
      "outputs": [
        {
          "output_type": "execute_result",
          "data": {
            "text/plain": [
              "<tf.Tensor: shape=(), dtype=float32, numpy=0.967138409614563>"
            ]
          },
          "metadata": {},
          "execution_count": 65
        }
      ]
    },
    {
      "cell_type": "code",
      "source": [
        "tf.argmin(F)"
      ],
      "metadata": {
        "colab": {
          "base_uri": "https://localhost:8080/"
        },
        "id": "z6-blH7ZIM1d",
        "outputId": "4cece3eb-8d72-4388-9898-2f9b997a4b28"
      },
      "execution_count": 66,
      "outputs": [
        {
          "output_type": "execute_result",
          "data": {
            "text/plain": [
              "<tf.Tensor: shape=(), dtype=int64, numpy=16>"
            ]
          },
          "metadata": {},
          "execution_count": 66
        }
      ]
    },
    {
      "cell_type": "code",
      "source": [
        "F[(tf.argmin(F))]"
      ],
      "metadata": {
        "colab": {
          "base_uri": "https://localhost:8080/"
        },
        "id": "GXlJUYrmH1Ay",
        "outputId": "04e5806c-82f7-40eb-8db8-e124cae463ce"
      },
      "execution_count": 67,
      "outputs": [
        {
          "output_type": "execute_result",
          "data": {
            "text/plain": [
              "<tf.Tensor: shape=(), dtype=float32, numpy=0.009463667869567871>"
            ]
          },
          "metadata": {},
          "execution_count": 67
        }
      ]
    },
    {
      "cell_type": "markdown",
      "source": [
        "### Squeezing tensors(removing all single dimennsions)"
      ],
      "metadata": {
        "id": "UAGRTPZ-JADX"
      }
    },
    {
      "cell_type": "code",
      "source": [
        "tf.random.set_seed(42)\n",
        "G = tf.random.uniform(shape=(1,1,1,1,50))\n",
        "G"
      ],
      "metadata": {
        "colab": {
          "base_uri": "https://localhost:8080/"
        },
        "id": "X_7jYT8zI-Vg",
        "outputId": "0e3bceb7-1f8d-4138-cb8b-5f1daaed4bc1"
      },
      "execution_count": 68,
      "outputs": [
        {
          "output_type": "execute_result",
          "data": {
            "text/plain": [
              "<tf.Tensor: shape=(1, 1, 1, 1, 50), dtype=float32, numpy=\n",
              "array([[[[[0.6645621 , 0.44100678, 0.3528825 , 0.46448255, 0.03366041,\n",
              "           0.68467236, 0.74011743, 0.8724445 , 0.22632635, 0.22319686,\n",
              "           0.3103881 , 0.7223358 , 0.13318717, 0.5480639 , 0.5746088 ,\n",
              "           0.8996835 , 0.00946367, 0.5212307 , 0.6345445 , 0.1993283 ,\n",
              "           0.72942245, 0.54583454, 0.10756552, 0.6767061 , 0.6602763 ,\n",
              "           0.33695042, 0.60141766, 0.21062577, 0.8527372 , 0.44062173,\n",
              "           0.9485276 , 0.23752594, 0.81179297, 0.5263394 , 0.494308  ,\n",
              "           0.21612847, 0.8457197 , 0.8718841 , 0.3083862 , 0.6868038 ,\n",
              "           0.23764038, 0.7817228 , 0.9671384 , 0.06870162, 0.79873943,\n",
              "           0.66028714, 0.5871513 , 0.16461694, 0.7381023 , 0.32054043]]]]],\n",
              "      dtype=float32)>"
            ]
          },
          "metadata": {},
          "execution_count": 68
        }
      ]
    },
    {
      "cell_type": "code",
      "source": [
        "G_sqeezed = tf.squeeze(G)\n",
        "G_sqeezed, G_sqeezed.shape"
      ],
      "metadata": {
        "colab": {
          "base_uri": "https://localhost:8080/"
        },
        "id": "apKMLJ4OJNw9",
        "outputId": "11d69f83-7bea-4fc2-bb76-47e90648368a"
      },
      "execution_count": 69,
      "outputs": [
        {
          "output_type": "execute_result",
          "data": {
            "text/plain": [
              "(<tf.Tensor: shape=(50,), dtype=float32, numpy=\n",
              " array([0.6645621 , 0.44100678, 0.3528825 , 0.46448255, 0.03366041,\n",
              "        0.68467236, 0.74011743, 0.8724445 , 0.22632635, 0.22319686,\n",
              "        0.3103881 , 0.7223358 , 0.13318717, 0.5480639 , 0.5746088 ,\n",
              "        0.8996835 , 0.00946367, 0.5212307 , 0.6345445 , 0.1993283 ,\n",
              "        0.72942245, 0.54583454, 0.10756552, 0.6767061 , 0.6602763 ,\n",
              "        0.33695042, 0.60141766, 0.21062577, 0.8527372 , 0.44062173,\n",
              "        0.9485276 , 0.23752594, 0.81179297, 0.5263394 , 0.494308  ,\n",
              "        0.21612847, 0.8457197 , 0.8718841 , 0.3083862 , 0.6868038 ,\n",
              "        0.23764038, 0.7817228 , 0.9671384 , 0.06870162, 0.79873943,\n",
              "        0.66028714, 0.5871513 , 0.16461694, 0.7381023 , 0.32054043],\n",
              "       dtype=float32)>,\n",
              " TensorShape([50]))"
            ]
          },
          "metadata": {},
          "execution_count": 69
        }
      ]
    },
    {
      "cell_type": "markdown",
      "source": [
        "### One-hot encoding tensors"
      ],
      "metadata": {
        "id": "JU1kan9oNYDY"
      }
    },
    {
      "cell_type": "code",
      "source": [
        "some_list = [1,2,4,2,3]\n",
        "tf.one_hot(some_list, depth=2)"
      ],
      "metadata": {
        "colab": {
          "base_uri": "https://localhost:8080/"
        },
        "id": "zgfyJFeUML2A",
        "outputId": "0c1e15df-d7cc-4e52-fe97-9be1e284d7c5"
      },
      "execution_count": 70,
      "outputs": [
        {
          "output_type": "execute_result",
          "data": {
            "text/plain": [
              "<tf.Tensor: shape=(5, 2), dtype=float32, numpy=\n",
              "array([[0., 1.],\n",
              "       [0., 0.],\n",
              "       [0., 0.],\n",
              "       [0., 0.],\n",
              "       [0., 0.]], dtype=float32)>"
            ]
          },
          "metadata": {},
          "execution_count": 70
        }
      ]
    },
    {
      "cell_type": "markdown",
      "source": [
        "### Tensor and Numpy\n",
        "Tensoe flow interacts nicely with Numpy array"
      ],
      "metadata": {
        "id": "cqvDdHV9s8_m"
      }
    },
    {
      "cell_type": "code",
      "source": [
        "J = tf.constant(np.array([3,5,3]))\n",
        "J"
      ],
      "metadata": {
        "id": "nqRZQRm-No06",
        "colab": {
          "base_uri": "https://localhost:8080/"
        },
        "outputId": "0de80aa6-1c42-4996-afe7-6ee01d84d182"
      },
      "execution_count": 72,
      "outputs": [
        {
          "output_type": "execute_result",
          "data": {
            "text/plain": [
              "<tf.Tensor: shape=(3,), dtype=int64, numpy=array([3, 5, 3])>"
            ]
          },
          "metadata": {},
          "execution_count": 72
        }
      ]
    },
    {
      "cell_type": "code",
      "source": [
        "np.array(J)"
      ],
      "metadata": {
        "colab": {
          "base_uri": "https://localhost:8080/"
        },
        "id": "vs-Af7kGtF_q",
        "outputId": "07887c9d-fdff-4b02-d0e1-7858ab3aa963"
      },
      "execution_count": 73,
      "outputs": [
        {
          "output_type": "execute_result",
          "data": {
            "text/plain": [
              "array([3, 5, 3])"
            ]
          },
          "metadata": {},
          "execution_count": 73
        }
      ]
    },
    {
      "cell_type": "code",
      "source": [
        "J.numpy()"
      ],
      "metadata": {
        "colab": {
          "base_uri": "https://localhost:8080/"
        },
        "id": "QpUmaCeMtJJY",
        "outputId": "e2ac37e1-4258-41b4-8fe5-786637555b64"
      },
      "execution_count": 74,
      "outputs": [
        {
          "output_type": "execute_result",
          "data": {
            "text/plain": [
              "array([3, 5, 3])"
            ]
          },
          "metadata": {},
          "execution_count": 74
        }
      ]
    },
    {
      "cell_type": "markdown",
      "source": [
        "### Finding access to GPUs\n",
        "Go to runtime and select for chagge run time and you can select GPU or TPU from there"
      ],
      "metadata": {
        "id": "5GwYYWFqucSn"
      }
    },
    {
      "cell_type": "code",
      "source": [
        "import tensorflow as tf\n",
        "tf.config.list_physical_devices()"
      ],
      "metadata": {
        "colab": {
          "base_uri": "https://localhost:8080/"
        },
        "id": "ydafC727tUMW",
        "outputId": "d2d41eca-8cd0-4e14-ff7f-17bd122b04ba"
      },
      "execution_count": 1,
      "outputs": [
        {
          "output_type": "execute_result",
          "data": {
            "text/plain": [
              "[PhysicalDevice(name='/physical_device:CPU:0', device_type='CPU'),\n",
              " PhysicalDevice(name='/physical_device:GPU:0', device_type='GPU')]"
            ]
          },
          "metadata": {},
          "execution_count": 1
        }
      ]
    },
    {
      "cell_type": "code",
      "source": [
        "# This shows what kind of GPU you are using and google colab doesn't let us select GPU of our choice\n",
        "!nvidia-smi"
      ],
      "metadata": {
        "colab": {
          "base_uri": "https://localhost:8080/"
        },
        "id": "H1NFLzXGvOvz",
        "outputId": "a23185d3-bb37-4eb1-94c2-14305506964b"
      },
      "execution_count": 2,
      "outputs": [
        {
          "output_type": "stream",
          "name": "stdout",
          "text": [
            "Fri Feb  7 01:01:29 2025       \n",
            "+-----------------------------------------------------------------------------------------+\n",
            "| NVIDIA-SMI 550.54.15              Driver Version: 550.54.15      CUDA Version: 12.4     |\n",
            "|-----------------------------------------+------------------------+----------------------+\n",
            "| GPU  Name                 Persistence-M | Bus-Id          Disp.A | Volatile Uncorr. ECC |\n",
            "| Fan  Temp   Perf          Pwr:Usage/Cap |           Memory-Usage | GPU-Util  Compute M. |\n",
            "|                                         |                        |               MIG M. |\n",
            "|=========================================+========================+======================|\n",
            "|   0  Tesla T4                       Off |   00000000:00:04.0 Off |                    0 |\n",
            "| N/A   36C    P8              9W /   70W |       2MiB /  15360MiB |      0%      Default |\n",
            "|                                         |                        |                  N/A |\n",
            "+-----------------------------------------+------------------------+----------------------+\n",
            "                                                                                         \n",
            "+-----------------------------------------------------------------------------------------+\n",
            "| Processes:                                                                              |\n",
            "|  GPU   GI   CI        PID   Type   Process name                              GPU Memory |\n",
            "|        ID   ID                                                               Usage      |\n",
            "|=========================================================================================|\n",
            "|  No running processes found                                                             |\n",
            "+-----------------------------------------------------------------------------------------+\n"
          ]
        }
      ]
    },
    {
      "cell_type": "code",
      "source": [
        "tf.config.list_physical_devices(\"GPU\")"
      ],
      "metadata": {
        "colab": {
          "base_uri": "https://localhost:8080/"
        },
        "id": "cg8xHg2QwbfP",
        "outputId": "66f5336b-7a9d-4fb2-adc8-d8cb63ae57f3"
      },
      "execution_count": 3,
      "outputs": [
        {
          "output_type": "execute_result",
          "data": {
            "text/plain": [
              "[PhysicalDevice(name='/physical_device:GPU:0', device_type='GPU')]"
            ]
          },
          "metadata": {},
          "execution_count": 3
        }
      ]
    },
    {
      "cell_type": "markdown",
      "source": [
        "### Exercise till\n",
        "* Create a vector, scalar, matrix and tensor with values of your choosing using tf.constant().\n",
        "\n",
        "* Find the shape, rank and size of the tensors you created in 1.\n",
        "\n",
        "* Create two tensors containing random values between 0 and 1 with shape [5, 300].\n",
        "\n",
        "* Multiply the two tensors you created in 3 using matrix multiplication.\n",
        "\n",
        "* Multiply the two tensors you created in 3 using dot product.\n",
        "\n",
        "* Create a tensor with random values between 0 and 1 with shape [224, 224, 3].\n",
        "\n",
        "* Find the min and max values of the tensor you created in 6 along the first axis.\n",
        "\n",
        "* Created a tensor with random values of shape [1, 224, 224, 3] then squeeze it to change the shape to [224, 224, 3].\n",
        "\n",
        "* Create a tensor with shape [10] using your own choice of values, then find the index which has the maximum value.\n",
        "\n",
        "* One-hot encode the tensor you created in 9."
      ],
      "metadata": {
        "id": "WStRetRuyoDd"
      }
    },
    {
      "cell_type": "code",
      "source": [
        "import tensorflow as tf"
      ],
      "metadata": {
        "id": "d_ieFYHuxHCv"
      },
      "execution_count": 4,
      "outputs": []
    },
    {
      "cell_type": "code",
      "source": [
        "V = tf.constant([2,4,6,3])\n",
        "V"
      ],
      "metadata": {
        "colab": {
          "base_uri": "https://localhost:8080/"
        },
        "id": "bUh33p81zNCd",
        "outputId": "80bb3256-95ec-4166-d5a6-1feca6ed24d7"
      },
      "execution_count": 5,
      "outputs": [
        {
          "output_type": "execute_result",
          "data": {
            "text/plain": [
              "<tf.Tensor: shape=(4,), dtype=int32, numpy=array([2, 4, 6, 3], dtype=int32)>"
            ]
          },
          "metadata": {},
          "execution_count": 5
        }
      ]
    },
    {
      "cell_type": "code",
      "source": [
        "S = tf.constant(1)\n",
        "S"
      ],
      "metadata": {
        "colab": {
          "base_uri": "https://localhost:8080/"
        },
        "id": "iluRrYGzzTDw",
        "outputId": "616da25b-e584-4dcb-d33a-6f974bc682fb"
      },
      "execution_count": 6,
      "outputs": [
        {
          "output_type": "execute_result",
          "data": {
            "text/plain": [
              "<tf.Tensor: shape=(), dtype=int32, numpy=1>"
            ]
          },
          "metadata": {},
          "execution_count": 6
        }
      ]
    },
    {
      "cell_type": "code",
      "source": [
        "M = tf.constant([[2,3,5,6],[6,3,7,8]])\n",
        "M"
      ],
      "metadata": {
        "colab": {
          "base_uri": "https://localhost:8080/"
        },
        "id": "zeED9JTZzaok",
        "outputId": "a70dc895-3335-4123-c547-0f75a05df222"
      },
      "execution_count": 7,
      "outputs": [
        {
          "output_type": "execute_result",
          "data": {
            "text/plain": [
              "<tf.Tensor: shape=(2, 4), dtype=int32, numpy=\n",
              "array([[2, 3, 5, 6],\n",
              "       [6, 3, 7, 8]], dtype=int32)>"
            ]
          },
          "metadata": {},
          "execution_count": 7
        }
      ]
    },
    {
      "cell_type": "code",
      "source": [
        "V.shape, tf.size(V), V.ndim\n",
        "S.shape, tf.size(S), S.ndim\n",
        "M.shape, tf.size(M), M.ndim"
      ],
      "metadata": {
        "colab": {
          "base_uri": "https://localhost:8080/"
        },
        "id": "xL-VtEhRzjpm",
        "outputId": "942894a1-b3fe-41bc-ba61-fe397d06908c"
      },
      "execution_count": 8,
      "outputs": [
        {
          "output_type": "execute_result",
          "data": {
            "text/plain": [
              "(TensorShape([2, 4]), <tf.Tensor: shape=(), dtype=int32, numpy=8>, 2)"
            ]
          },
          "metadata": {},
          "execution_count": 8
        }
      ]
    },
    {
      "cell_type": "code",
      "source": [
        "A = tf.random.Generator.from_seed(42)\n",
        "A = A.normal(shape=(5,300))\n",
        "A"
      ],
      "metadata": {
        "colab": {
          "base_uri": "https://localhost:8080/"
        },
        "id": "6hb8d9sM0Nyh",
        "outputId": "61c3be63-57a1-47ad-ae2a-4636e0557754"
      },
      "execution_count": 23,
      "outputs": [
        {
          "output_type": "execute_result",
          "data": {
            "text/plain": [
              "<tf.Tensor: shape=(5, 300), dtype=float32, numpy=\n",
              "array([[-0.7565803 , -0.06854702,  0.07595026, ..., -1.0718341 ,\n",
              "        -1.0722276 , -0.00586287],\n",
              "       [-0.8805103 , -0.32426047, -2.4847078 , ...,  0.16512105,\n",
              "         1.155565  , -0.10707551],\n",
              "       [-1.5306779 , -0.8620293 , -0.16359143, ...,  0.34288087,\n",
              "         1.216793  , -1.2429299 ],\n",
              "       [ 0.8432426 , -0.23379941,  0.42763978, ..., -1.0428714 ,\n",
              "        -0.73970354,  0.0177109 ],\n",
              "       [ 0.04888754, -0.66408694, -1.787366  , ...,  0.1947453 ,\n",
              "         0.5656089 ,  0.18439198]], dtype=float32)>"
            ]
          },
          "metadata": {},
          "execution_count": 23
        }
      ]
    },
    {
      "cell_type": "code",
      "source": [
        "B = tf.random.Generator.from_seed(22)\n",
        "B = B.normal(shape=(5,300))\n",
        "B"
      ],
      "metadata": {
        "colab": {
          "base_uri": "https://localhost:8080/"
        },
        "id": "aVlsHj7v8W2-",
        "outputId": "c00d8ec6-89f8-4680-9ed4-5049e98aa99c"
      },
      "execution_count": 24,
      "outputs": [
        {
          "output_type": "execute_result",
          "data": {
            "text/plain": [
              "<tf.Tensor: shape=(5, 300), dtype=float32, numpy=\n",
              "array([[-0.7531523 ,  2.0261486 , -0.06997604, ...,  1.1928992 ,\n",
              "         1.7263643 ,  0.71513796],\n",
              "       [-1.0779938 , -1.1893024 ,  0.08200742, ...,  1.2378134 ,\n",
              "        -0.5333003 ,  0.5499724 ],\n",
              "       [ 0.8250944 ,  0.02531349,  1.0933132 , ..., -0.9221158 ,\n",
              "         1.3876396 ,  0.23198044],\n",
              "       [-0.48676503, -1.3900983 ,  0.30898732, ..., -1.1654662 ,\n",
              "        -1.4466094 ,  0.16346607],\n",
              "       [ 0.53709805,  1.4272277 , -0.9052965 , ..., -0.36931053,\n",
              "        -0.01361591,  0.8295046 ]], dtype=float32)>"
            ]
          },
          "metadata": {},
          "execution_count": 24
        }
      ]
    },
    {
      "cell_type": "code",
      "source": [
        "print('size of A: ',tf.size(A).numpy())\n",
        "print('shape of A: ',A.shape)\n",
        "print('size of B: ',tf.size(B).numpy())\n",
        "print('shape of B: ',B.shape)"
      ],
      "metadata": {
        "colab": {
          "base_uri": "https://localhost:8080/"
        },
        "id": "32gzhPSe03p9",
        "outputId": "c74d0a3d-f771-49f6-fda2-cb79b8766160"
      },
      "execution_count": 32,
      "outputs": [
        {
          "output_type": "stream",
          "name": "stdout",
          "text": [
            "size of A:  1500\n",
            "shape of A:  (5, 300)\n",
            "size of B:  1500\n",
            "shape of B:  (5, 300)\n"
          ]
        }
      ]
    },
    {
      "cell_type": "code",
      "source": [
        "B = tf.reshape(B, shape=(300,5))"
      ],
      "metadata": {
        "id": "Dv5yrB3c2KZJ"
      },
      "execution_count": 33,
      "outputs": []
    },
    {
      "cell_type": "code",
      "source": [
        "B.shape"
      ],
      "metadata": {
        "colab": {
          "base_uri": "https://localhost:8080/"
        },
        "id": "__fuIMCd9j0_",
        "outputId": "37f80b45-ee39-4e81-cf99-f5d591b1130b"
      },
      "execution_count": 34,
      "outputs": [
        {
          "output_type": "execute_result",
          "data": {
            "text/plain": [
              "TensorShape([300, 5])"
            ]
          },
          "metadata": {},
          "execution_count": 34
        }
      ]
    },
    {
      "cell_type": "code",
      "source": [
        "Mul_AB = tf.linalg.matmul(A,B)"
      ],
      "metadata": {
        "id": "EpIkOU8W9mS4"
      },
      "execution_count": 36,
      "outputs": []
    },
    {
      "cell_type": "code",
      "source": [
        "C = tf.random.Generator.from_seed(100)\n",
        "C= C.normal(shape=(244,244,3))"
      ],
      "metadata": {
        "id": "B_i3pACe9r6X"
      },
      "execution_count": 39,
      "outputs": []
    },
    {
      "cell_type": "code",
      "source": [
        "\n",
        "D = tf.math.reduce_max(C, axis=0).numpy()\n",
        "D"
      ],
      "metadata": {
        "colab": {
          "base_uri": "https://localhost:8080/"
        },
        "id": "GRI8BhlY-PC3",
        "outputId": "bebfa13b-1673-4070-8293-9f39294efb4a"
      },
      "execution_count": 42,
      "outputs": [
        {
          "output_type": "execute_result",
          "data": {
            "text/plain": [
              "array([[3.103144 , 2.423616 , 2.0176623],\n",
              "       [2.4235914, 2.631507 , 2.8808382],\n",
              "       [2.9852548, 2.4131224, 2.5550091],\n",
              "       [3.1077476, 2.7493734, 2.9750853],\n",
              "       [3.335201 , 2.6520627, 2.7225552],\n",
              "       [2.458612 , 4.143849 , 3.2683666],\n",
              "       [3.6747038, 3.2083302, 2.6869996],\n",
              "       [2.7170846, 2.2460382, 2.5325427],\n",
              "       [2.9892633, 2.3748603, 1.814754 ],\n",
              "       [2.412548 , 2.9597194, 2.693442 ],\n",
              "       [2.8594859, 3.2264588, 2.2900276],\n",
              "       [2.1735067, 2.5657833, 3.2124982],\n",
              "       [2.1314619, 2.922551 , 2.3711767],\n",
              "       [2.8399048, 3.2045388, 2.8657808],\n",
              "       [2.5648057, 2.8447542, 2.7760174],\n",
              "       [2.4880695, 2.7583709, 3.7233512],\n",
              "       [2.7557178, 2.8227265, 3.2576523],\n",
              "       [2.2525334, 3.1800234, 3.019183 ],\n",
              "       [3.5695724, 2.463126 , 2.599501 ],\n",
              "       [2.9465792, 3.120509 , 3.1958346],\n",
              "       [2.3338425, 2.8823073, 2.9649973],\n",
              "       [2.765907 , 2.9976327, 3.0486042],\n",
              "       [2.8180327, 2.5438585, 2.59572  ],\n",
              "       [3.1579332, 2.742517 , 2.2318754],\n",
              "       [2.4085941, 2.5420372, 2.5614219],\n",
              "       [3.312877 , 3.3391635, 2.5901904],\n",
              "       [2.7258055, 2.70308  , 2.2826009],\n",
              "       [2.9356904, 2.6462514, 2.7028608],\n",
              "       [2.5825655, 2.5832796, 3.5686188],\n",
              "       [2.4695513, 2.9001873, 2.7123907],\n",
              "       [2.9938076, 2.4303746, 3.3765347],\n",
              "       [2.8986778, 2.5363293, 2.4571805],\n",
              "       [2.3989415, 2.3544514, 2.1219797],\n",
              "       [2.7459733, 2.0534346, 2.559132 ],\n",
              "       [2.3894005, 3.0530844, 4.1643705],\n",
              "       [2.261439 , 2.7465172, 2.8256745],\n",
              "       [2.926119 , 3.253207 , 2.970642 ],\n",
              "       [3.0045323, 2.9351816, 3.9483128],\n",
              "       [2.7722735, 2.3413422, 3.0055242],\n",
              "       [2.8261974, 3.3925989, 2.7126675],\n",
              "       [2.198784 , 2.5312355, 2.8137634],\n",
              "       [3.9135349, 2.9356043, 2.5492415],\n",
              "       [2.5175204, 3.0681288, 3.4868832],\n",
              "       [2.3574874, 3.2501254, 2.1739547],\n",
              "       [2.8421884, 3.1101236, 2.6424747],\n",
              "       [2.5275412, 2.8874898, 3.7696908],\n",
              "       [2.550949 , 3.5280733, 2.9222996],\n",
              "       [2.4715235, 2.689179 , 3.0629137],\n",
              "       [2.9098368, 2.6717196, 2.9148676],\n",
              "       [3.9229474, 2.735105 , 2.4534595],\n",
              "       [2.498785 , 2.3759573, 3.3407202],\n",
              "       [2.5509176, 2.3799813, 3.19926  ],\n",
              "       [2.6465676, 2.5193589, 2.7135289],\n",
              "       [3.212594 , 3.7706537, 2.3759365],\n",
              "       [3.5428257, 3.4027247, 2.6190064],\n",
              "       [3.3860397, 2.7991428, 3.6243012],\n",
              "       [3.3094978, 2.7376897, 3.5200264],\n",
              "       [2.8350174, 2.825944 , 2.5742545],\n",
              "       [2.8651638, 2.7554085, 2.7425625],\n",
              "       [2.2928207, 1.9436606, 2.603239 ],\n",
              "       [2.6119041, 2.9003572, 2.9457283],\n",
              "       [2.3824165, 4.4032865, 2.460082 ],\n",
              "       [2.6334736, 2.8372543, 2.743578 ],\n",
              "       [2.39215  , 2.7424028, 2.9328256],\n",
              "       [3.0307612, 2.6236527, 3.5230386],\n",
              "       [2.8995945, 2.5666173, 2.9958622],\n",
              "       [2.555075 , 2.6401992, 2.4442132],\n",
              "       [2.512962 , 2.9502203, 2.584691 ],\n",
              "       [2.721511 , 2.6455846, 2.7187402],\n",
              "       [3.3418832, 2.374633 , 2.380994 ],\n",
              "       [2.4175484, 2.394369 , 2.694206 ],\n",
              "       [2.5706265, 2.873178 , 2.3462086],\n",
              "       [2.4130104, 2.5466685, 2.3365645],\n",
              "       [2.509253 , 3.4879313, 2.810924 ],\n",
              "       [2.5341797, 2.6276417, 2.6255002],\n",
              "       [2.7879791, 3.3177514, 2.647944 ],\n",
              "       [2.9095407, 2.917374 , 2.6551244],\n",
              "       [2.5033302, 2.0519028, 2.3412378],\n",
              "       [2.3477983, 3.1296818, 2.4021118],\n",
              "       [2.8681247, 2.4719372, 2.7422662],\n",
              "       [2.3645298, 2.9591675, 2.379917 ],\n",
              "       [3.2582695, 2.232055 , 3.0650864],\n",
              "       [2.3922975, 2.7594607, 3.9678934],\n",
              "       [2.5647862, 2.6546848, 2.4434295],\n",
              "       [2.8594968, 2.881285 , 2.5650187],\n",
              "       [3.0395238, 2.41032  , 3.2691426],\n",
              "       [2.8338172, 2.855341 , 2.5334697],\n",
              "       [2.743397 , 2.7242544, 2.818339 ],\n",
              "       [3.0394454, 3.4781687, 3.0538654],\n",
              "       [2.6800082, 2.9762974, 2.400247 ],\n",
              "       [2.8566647, 2.4233246, 3.3375635],\n",
              "       [2.8015919, 3.6422238, 2.6762292],\n",
              "       [2.5316076, 2.9266272, 2.7411106],\n",
              "       [2.9073353, 2.97238  , 2.4446673],\n",
              "       [2.260771 , 2.5372534, 2.173087 ],\n",
              "       [3.125233 , 2.8807542, 3.0306745],\n",
              "       [2.6345851, 2.8271096, 2.8377013],\n",
              "       [2.4581857, 3.2326663, 3.0936375],\n",
              "       [3.3770864, 2.9175973, 2.600238 ],\n",
              "       [3.3731039, 2.571187 , 2.2025204],\n",
              "       [3.1597815, 3.060149 , 2.7412004],\n",
              "       [2.8661737, 3.6353738, 2.767004 ],\n",
              "       [2.628397 , 2.7782931, 2.7251067],\n",
              "       [2.978812 , 2.210374 , 2.635133 ],\n",
              "       [3.2631426, 3.3821862, 2.848635 ],\n",
              "       [2.2370374, 2.4355974, 2.9085953],\n",
              "       [3.1818907, 2.75818  , 2.387315 ],\n",
              "       [3.2115116, 2.9739807, 2.267876 ],\n",
              "       [2.680779 , 2.609107 , 2.5407827],\n",
              "       [2.5670164, 2.8113472, 2.6619797],\n",
              "       [2.8513184, 2.99345  , 2.7005677],\n",
              "       [3.0900185, 3.101253 , 2.7723029],\n",
              "       [2.636423 , 3.276266 , 2.582967 ],\n",
              "       [3.5372908, 3.5461056, 2.4777052],\n",
              "       [2.9633741, 2.7214975, 2.781033 ],\n",
              "       [2.9900022, 2.7014194, 3.462277 ],\n",
              "       [2.589224 , 2.4513469, 2.9735396],\n",
              "       [2.3896024, 3.2940376, 2.8706062],\n",
              "       [2.9258626, 2.9344583, 2.8021142],\n",
              "       [2.4849532, 3.1339471, 2.562015 ],\n",
              "       [2.8119595, 2.3492904, 2.7291913],\n",
              "       [2.6715808, 2.6874287, 2.9157445],\n",
              "       [2.8646715, 3.1379426, 2.5036194],\n",
              "       [2.8105779, 2.4940033, 2.754259 ],\n",
              "       [2.4214525, 2.6727433, 3.446479 ],\n",
              "       [2.8691204, 3.4131813, 2.9214792],\n",
              "       [3.1547995, 3.113889 , 2.7551293],\n",
              "       [2.4922242, 2.4680789, 2.6378858],\n",
              "       [2.8246434, 2.6584613, 2.3327296],\n",
              "       [2.60729  , 2.5857265, 3.4287512],\n",
              "       [2.965686 , 3.3247573, 2.9424539],\n",
              "       [3.0903957, 2.474343 , 2.8156543],\n",
              "       [2.9660716, 1.9429976, 2.9364038],\n",
              "       [2.708482 , 2.6254745, 2.4992297],\n",
              "       [2.4520555, 2.8196666, 2.627741 ],\n",
              "       [2.6322439, 2.6036172, 2.2367275],\n",
              "       [3.158076 , 2.1602924, 2.5840633],\n",
              "       [2.7913632, 3.2420132, 2.796916 ],\n",
              "       [3.412546 , 2.9855382, 2.5091074],\n",
              "       [2.804074 , 3.397305 , 2.3152006],\n",
              "       [2.7998447, 2.6571667, 2.999433 ],\n",
              "       [2.5021107, 2.6184149, 3.2249646],\n",
              "       [2.601202 , 2.3792899, 2.5179915],\n",
              "       [3.0665517, 3.3407931, 3.2652934],\n",
              "       [2.7681758, 2.108396 , 2.8911443],\n",
              "       [2.7268107, 2.9891908, 2.4683719],\n",
              "       [2.3201706, 3.573138 , 2.4970667],\n",
              "       [3.161549 , 2.3522844, 2.8311868],\n",
              "       [3.0520399, 2.7407186, 3.3368995],\n",
              "       [2.390229 , 2.770794 , 3.369694 ],\n",
              "       [2.4503047, 2.91925  , 2.787604 ],\n",
              "       [3.3040946, 3.0119352, 3.1562161],\n",
              "       [2.7973368, 2.7094674, 3.9110553],\n",
              "       [2.8086326, 2.6475985, 3.0156777],\n",
              "       [2.3386204, 2.283026 , 3.0812345],\n",
              "       [3.1519337, 2.6048129, 2.9206035],\n",
              "       [2.9770954, 2.7091348, 2.7877479],\n",
              "       [2.634563 , 3.1714308, 2.8473125],\n",
              "       [3.9205348, 2.580326 , 2.7459238],\n",
              "       [2.1697109, 3.1901567, 2.5739703],\n",
              "       [2.4267733, 2.4356298, 2.764044 ],\n",
              "       [2.4555216, 2.485117 , 3.623089 ],\n",
              "       [2.4938374, 2.73109  , 2.9989972],\n",
              "       [3.7485723, 2.8385136, 3.2831776],\n",
              "       [2.3994408, 2.3252537, 2.4977973],\n",
              "       [2.3167603, 2.5783217, 2.2963037],\n",
              "       [3.3605309, 2.177106 , 3.081714 ],\n",
              "       [2.3832211, 2.8272946, 2.3657134],\n",
              "       [2.2768595, 3.1626828, 2.548069 ],\n",
              "       [3.827859 , 2.9680798, 2.6565595],\n",
              "       [3.1177502, 2.6529553, 2.8010855],\n",
              "       [2.9816082, 2.6301937, 2.8984392],\n",
              "       [2.5439372, 3.538529 , 2.3432028],\n",
              "       [3.0856957, 2.9801402, 2.9875543],\n",
              "       [2.6794221, 2.6488788, 2.8512645],\n",
              "       [3.3206537, 2.9405499, 2.1846523],\n",
              "       [3.5623987, 3.0695915, 2.3542778],\n",
              "       [3.022646 , 2.7092817, 3.1423316],\n",
              "       [3.0534575, 2.4680138, 3.0240793],\n",
              "       [2.5341556, 2.8965027, 3.6788175],\n",
              "       [2.6527069, 3.9975498, 3.6800478],\n",
              "       [3.023961 , 2.910144 , 3.0119703],\n",
              "       [2.5847745, 3.084641 , 3.2382076],\n",
              "       [2.4870152, 2.3238869, 2.9810004],\n",
              "       [3.4405384, 2.6050813, 2.5206945],\n",
              "       [2.547131 , 3.166912 , 2.6862717],\n",
              "       [3.4777393, 2.8524635, 2.990842 ],\n",
              "       [3.7059276, 2.4253283, 2.222126 ],\n",
              "       [3.0025337, 3.3089314, 3.042537 ],\n",
              "       [2.7315295, 3.038681 , 3.1952248],\n",
              "       [2.7165735, 2.1389809, 2.2898319],\n",
              "       [2.8157482, 3.1831703, 3.6968956],\n",
              "       [2.8860726, 2.8684745, 2.8053448],\n",
              "       [4.315969 , 2.3873034, 2.6034088],\n",
              "       [2.2974107, 2.3407722, 2.796964 ],\n",
              "       [2.9565399, 2.7070346, 2.7161787],\n",
              "       [3.548378 , 3.0804455, 3.1880612],\n",
              "       [2.6081123, 2.5476189, 2.7168157],\n",
              "       [2.674814 , 2.913884 , 3.0953772],\n",
              "       [3.1632905, 3.2149618, 2.5878649],\n",
              "       [2.5619347, 2.5230808, 2.7206473],\n",
              "       [2.1177442, 2.597771 , 2.4203455],\n",
              "       [3.1414387, 3.2527115, 2.5544214],\n",
              "       [2.709894 , 2.722843 , 2.8525949],\n",
              "       [2.3628109, 2.353398 , 3.3305445],\n",
              "       [2.3991778, 2.5792453, 3.094971 ],\n",
              "       [3.5867395, 3.0854893, 3.4463732],\n",
              "       [2.9006724, 2.4991136, 2.178668 ],\n",
              "       [2.759854 , 3.8280945, 2.635396 ],\n",
              "       [2.7185397, 2.9176505, 2.7072086],\n",
              "       [3.128682 , 2.5181036, 2.5721583],\n",
              "       [3.1550012, 2.2837117, 2.745315 ],\n",
              "       [3.1609504, 3.038201 , 2.2851934],\n",
              "       [2.4238677, 2.5135882, 2.7096457],\n",
              "       [2.6838   , 2.947066 , 3.9925892],\n",
              "       [4.0004873, 2.8448422, 2.4320405],\n",
              "       [2.53388  , 3.0223954, 2.6557508],\n",
              "       [2.1758928, 2.7738976, 2.7403374],\n",
              "       [3.142198 , 2.3801312, 2.6432416],\n",
              "       [3.098943 , 2.1771543, 2.886098 ],\n",
              "       [2.2830184, 2.6655402, 2.6657565],\n",
              "       [3.2787778, 2.0827286, 2.8158932],\n",
              "       [2.248148 , 3.1647735, 2.71868  ],\n",
              "       [2.552526 , 2.811302 , 2.4773695],\n",
              "       [2.6884212, 2.8844943, 2.7856476],\n",
              "       [2.6291301, 2.6794467, 3.0046587],\n",
              "       [2.4982877, 2.2205029, 2.77183  ],\n",
              "       [2.4681532, 3.1891515, 3.3430314],\n",
              "       [2.6495378, 2.314622 , 2.5369163],\n",
              "       [2.331118 , 2.5877435, 3.6772783],\n",
              "       [2.6835117, 3.0048587, 2.9841926],\n",
              "       [3.1746004, 3.3781185, 2.7227051],\n",
              "       [2.3838778, 2.8535423, 3.057486 ],\n",
              "       [3.4386618, 2.7581866, 3.054678 ],\n",
              "       [3.789146 , 2.7060878, 2.2730734],\n",
              "       [2.4945614, 2.6166348, 3.5748487],\n",
              "       [3.3772285, 2.9554493, 3.2084305],\n",
              "       [4.054987 , 2.316304 , 2.9851518],\n",
              "       [2.7403462, 2.9335394, 2.2762277],\n",
              "       [2.501505 , 2.4732518, 2.935808 ],\n",
              "       [2.771871 , 3.1690857, 2.8518364],\n",
              "       [2.4319704, 2.3887682, 2.1670504],\n",
              "       [2.6727653, 2.6251745, 2.4188223],\n",
              "       [2.907527 , 2.984257 , 2.895988 ]], dtype=float32)"
            ]
          },
          "metadata": {},
          "execution_count": 42
        }
      ]
    },
    {
      "cell_type": "code",
      "source": [
        "tf.math.argmax(tf.constant([1,4,3,4,2,5,7,6,4,5]))"
      ],
      "metadata": {
        "colab": {
          "base_uri": "https://localhost:8080/"
        },
        "id": "6XAw_VWh_Hy_",
        "outputId": "4405415e-ef39-4738-d3fd-75a1b8f18be5"
      },
      "execution_count": 44,
      "outputs": [
        {
          "output_type": "execute_result",
          "data": {
            "text/plain": [
              "<tf.Tensor: shape=(), dtype=int64, numpy=6>"
            ]
          },
          "metadata": {},
          "execution_count": 44
        }
      ]
    },
    {
      "cell_type": "code",
      "source": [],
      "metadata": {
        "id": "Ewxl3o_2Cy3Y"
      },
      "execution_count": null,
      "outputs": []
    }
  ]
}